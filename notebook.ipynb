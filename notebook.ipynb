{
 "cells": [
  {
   "cell_type": "markdown",
   "id": "d6c5a776",
   "metadata": {},
   "source": [
    "# Analyzing dimensions"
   ]
  },
  {
   "cell_type": "code",
   "execution_count": 1,
   "id": "c44ea929",
   "metadata": {},
   "outputs": [],
   "source": [
    "\n",
    "import torch\n",
    "import torch.nn as nn\n",
    "from torchvision import datasets, transforms\n",
    "from torch.utils.data import DataLoader\n",
    "\n",
    "device = torch.device(\"cuda\" if torch.cuda.is_available() else \"cpu\")\n"
   ]
  },
  {
   "cell_type": "code",
   "execution_count": 2,
   "id": "9b4ad6d6",
   "metadata": {},
   "outputs": [
    {
     "name": "stdout",
     "output_type": "stream",
     "text": [
      "Original input shape: torch.Size([4, 1, 28, 28])\n"
     ]
    }
   ],
   "source": [
    "\n",
    "transform = transforms.ToTensor()\n",
    "dataset = datasets.MNIST(root='./data', train=True, transform=transform, download=True)\n",
    "loader = DataLoader(dataset, batch_size=4, shuffle=False)  # Small batch for inspection\n",
    "images, labels = next(iter(loader))\n",
    "\n",
    "print(f\"Original input shape: {images.shape}\")  # (B, C, H, W)\n"
   ]
  },
  {
   "cell_type": "code",
   "execution_count": 3,
   "id": "ad805cf0",
   "metadata": {},
   "outputs": [],
   "source": [
    "\n",
    "class CNNInspect(nn.Module):\n",
    "    def __init__(self):\n",
    "        super(CNNInspect, self).__init__()\n",
    "        self.conv1 = nn.Conv2d(1, 32, kernel_size=3, padding=1)  # 28x28 -> 28x28\n",
    "        self.conv2 = nn.Conv2d(32, 64, kernel_size=3, padding=1) # 14x14 -> 14x14\n",
    "        self.pool = nn.MaxPool2d(2, 2)                           # halves spatial dim\n",
    "        self.flatten = nn.Flatten()\n",
    "        self.fc1 = nn.Linear(64 * 7 * 7, 128)\n",
    "        self.fc2 = nn.Linear(128, 10)\n",
    "\n",
    "    def forward(self, x):\n",
    "        print(f\"Input: {x.shape}\")\n",
    "        x = self.conv1(x)\n",
    "        print(f\"After conv1: {x.shape}\")\n",
    "        x = torch.relu(x)\n",
    "        x = self.pool(x)\n",
    "        print(f\"After pool1: {x.shape}\")\n",
    "\n",
    "        x = self.conv2(x)\n",
    "        print(f\"After conv2: {x.shape}\")\n",
    "        x = torch.relu(x)\n",
    "        x = self.pool(x)\n",
    "        print(f\"After pool2: {x.shape}\")\n",
    "\n",
    "        x = self.flatten(x)\n",
    "        print(f\"After flatten: {x.shape}\")\n",
    "        x = self.fc1(x)\n",
    "        print(f\"After fc1: {x.shape}\")\n",
    "        x = self.fc2(x)\n",
    "        print(f\"After fc2 (output): {x.shape}\")\n",
    "        return x\n"
   ]
  },
  {
   "cell_type": "code",
   "execution_count": 4,
   "id": "9822a414",
   "metadata": {},
   "outputs": [
    {
     "name": "stdout",
     "output_type": "stream",
     "text": [
      "Input: torch.Size([4, 1, 28, 28])\n",
      "After conv1: torch.Size([4, 32, 28, 28])\n",
      "After pool1: torch.Size([4, 32, 14, 14])\n",
      "After conv2: torch.Size([4, 64, 14, 14])\n",
      "After pool2: torch.Size([4, 64, 7, 7])\n",
      "After flatten: torch.Size([4, 3136])\n",
      "After fc1: torch.Size([4, 128])\n",
      "After fc2 (output): torch.Size([4, 10])\n"
     ]
    }
   ],
   "source": [
    "\n",
    "model = CNNInspect().to(device)\n",
    "images = images.to(device)\n",
    "_ = model(images)\n"
   ]
  }
 ],
 "metadata": {
  "kernelspec": {
   "display_name": "torchenv",
   "language": "python",
   "name": "python3"
  },
  "language_info": {
   "codemirror_mode": {
    "name": "ipython",
    "version": 3
   },
   "file_extension": ".py",
   "mimetype": "text/x-python",
   "name": "python",
   "nbconvert_exporter": "python",
   "pygments_lexer": "ipython3",
   "version": "3.13.2"
  }
 },
 "nbformat": 4,
 "nbformat_minor": 5
}
